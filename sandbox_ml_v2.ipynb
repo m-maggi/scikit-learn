{
 "cells": [
  {
   "cell_type": "code",
   "execution_count": null,
   "metadata": {},
   "outputs": [],
   "source": []
  },
  {
   "cell_type": "code",
   "execution_count": 10,
   "metadata": {},
   "outputs": [
    {
     "data": {
      "text/plain": [
       "<matplotlib.legend.Legend at 0xffff329a4ee0>"
      ]
     },
     "execution_count": 10,
     "metadata": {},
     "output_type": "execute_result"
    },
    {
     "data": {
      "image/png": "[encoded data removed]",
      "text/plain": [
       "<Figure size 640x480 with 1 Axes>"
      ]
     },
     "metadata": {},
     "output_type": "display_data"
    }
   ],
   "source": [
    "import numpy as np\n",
    "import polars as pl\n",
    "import matplotlib.pyplot as plt\n",
    "from scipy import stats\n",
    "\n",
    "np.random.seed(18813823)\n",
    "n_groups = np.repeat(1.0, 100)\n",
    "n_sim = 100\n",
    "id_for_aggregation = stats.randint.rvs(0, 5, size=n_sim)\n",
    "id_for_aggregation[:60] = 1\n",
    "rv = stats.poisson(mu=0.1)\n",
    "sample = rv.rvs(size=n_sim)\n",
    "df_unitary = pl.DataFrame(\n",
    "    {\"fleet_id\": id_for_aggregation, \"weight\": 1.0, \"value\": sample}\n",
    ")\n",
    "df_weighted = (\n",
    "    df_unitary.group_by(\"fleet_id\")\n",
    "    .sum()\n",
    "    .with_columns(pl.col(\"value\") / pl.col(\"weight\"))\n",
    ")\n",
    "\n",
    "\n",
    "def lorenz_curve(frequency, exposure, weighted=True):\n",
    "    ranking = np.argsort(frequency)\n",
    "    ranked_frequencies = frequency[ranking]\n",
    "    ranked_exposure = exposure[ranking]\n",
    "    cumulated_claims = np.cumsum(ranked_frequencies * ranked_exposure)\n",
    "    cumulated_claims /= cumulated_claims[-1]\n",
    "    if weighted:\n",
    "        cumulated_exposure = np.cumsum(ranked_exposure)\n",
    "        cumulated_exposure /= cumulated_exposure[-1]\n",
    "        plt.scatter(\n",
    "            cumulated_exposure,\n",
    "            cumulated_claims,\n",
    "            marker=\".\",\n",
    "            alpha=0.5,\n",
    "            label=\"weighted\",\n",
    "        )\n",
    "    else:\n",
    "        cumulated_exposure = np.linspace(0, 1, len(frequency))\n",
    "        plt.scatter(\n",
    "            cumulated_exposure,\n",
    "            cumulated_claims,\n",
    "            marker=\"_\",\n",
    "            alpha=0.5,\n",
    "            label=\"unweighted\",\n",
    "        )\n",
    "\n",
    "\n",
    "lorenz_curve(df_weighted[\"value\"], df_weighted[\"weight\"])\n",
    "lorenz_curve(df_unitary[\"value\"], df_unitary[\"weight\"], False)\n",
    "plt.legend()"
   ]
  }
 ],
 "metadata": {
  "kernelspec": {
   "display_name": "sklearn-env",
   "language": "python",
   "name": "python3"
  },
  "language_info": {
   "codemirror_mode": {
    "name": "ipython",
    "version": 3
   },
   "file_extension": ".py",
   "mimetype": "text/x-python",
   "name": "python",
   "nbconvert_exporter": "python",
   "pygments_lexer": "ipython3",
   "version": "3.9.19"
  }
 },
 "nbformat": 4,
 "nbformat_minor": 2
}
